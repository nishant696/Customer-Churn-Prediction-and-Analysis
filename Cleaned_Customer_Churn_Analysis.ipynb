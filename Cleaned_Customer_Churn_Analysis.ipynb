{
 "cells": [
  {
   "cell_type": "markdown",
   "id": "a48b462b",
   "metadata": {},
   "source": [
    "# 📉 Customer Churn Prediction & Analysis\n",
    "\n",
    "This project aims to predict customer churn using machine learning techniques and exploratory data analysis. The goal is to identify customers likely to leave and understand key factors influencing their decisions.\n",
    "\n",
    "*Note: This notebook uses open-source data and mirrors typical analytical workflows used in a business context.*"
   ]
  },
  {
   "cell_type": "markdown",
   "id": "1298428b",
   "metadata": {},
   "source": [
    "## 📦 1. Importing Libraries"
   ]
  },
  {
   "cell_type": "code",
   "execution_count": null,
   "id": "f4a912e6",
   "metadata": {},
   "outputs": [],
   "source": [
    "import pandas as pd\n",
    "import numpy as np\n",
    "import matplotlib.pyplot as plt\n",
    "import seaborn as sns\n",
    "from sklearn.model_selection import train_test_split\n",
    "from sklearn.preprocessing import LabelEncoder\n",
    "from sklearn.ensemble import RandomForestClassifier\n",
    "from sklearn.metrics import classification_report, confusion_matrix, roc_auc_score"
   ]
  },
  {
   "cell_type": "markdown",
   "id": "fb77d8b7",
   "metadata": {},
   "source": [
    "## 📥 2. Loading the Dataset"
   ]
  },
  {
   "cell_type": "code",
   "execution_count": null,
   "id": "831dea3a",
   "metadata": {},
   "outputs": [],
   "source": [
    "file_path = r'C:/Users/Lenovo/OneDrive/Desktop/Customer churn/Data_file.xlsx'\n",
    "data = pd.read_excel(file_path)\n",
    "data.head()"
   ]
  },
  {
   "cell_type": "markdown",
   "id": "cfe441dc",
   "metadata": {},
   "source": [
    "## 🧾 3. Initial Data Overview"
   ]
  },
  {
   "cell_type": "code",
   "execution_count": null,
   "id": "c074095b",
   "metadata": {},
   "outputs": [],
   "source": [
    "data.info()\n",
    "data.describe()"
   ]
  },
  {
   "cell_type": "markdown",
   "id": "20bd962a",
   "metadata": {},
   "source": [
    "## 🧹 4. Data Cleaning\n",
    "\n",
    "Handle missing values, convert datatypes, drop unnecessary columns."
   ]
  },
  {
   "cell_type": "code",
   "execution_count": null,
   "id": "79535320",
   "metadata": {},
   "outputs": [],
   "source": [
    "# Drop ID or redundant columns if any\n",
    "# data.drop(columns=['ID'], inplace=True)\n",
    "\n",
    "# Example: Convert TotalCharges to numeric if needed\n",
    "# data['TotalCharges'] = pd.to_numeric(data['TotalCharges'], errors='coerce')\n",
    "\n",
    "# Handle nulls\n",
    "data.isnull().sum()"
   ]
  },
  {
   "cell_type": "markdown",
   "id": "f2ffe1bb",
   "metadata": {},
   "source": [
    "## 📊 5. Exploratory Data Analysis (EDA)"
   ]
  },
  {
   "cell_type": "code",
   "execution_count": null,
   "id": "53e4727d",
   "metadata": {},
   "outputs": [],
   "source": [
    "sns.countplot(x='Customer_Status', data=data)\n",
    "plt.title('Churn Distribution')\n",
    "plt.show()"
   ]
  },
  {
   "cell_type": "markdown",
   "id": "40ac3729",
   "metadata": {},
   "source": [
    "## 🔄 6. Encoding Categorical Variables"
   ]
  },
  {
   "cell_type": "code",
   "execution_count": null,
   "id": "fbe44503",
   "metadata": {},
   "outputs": [],
   "source": [
    "label_encoders = {}\n",
    "for column in data.select_dtypes(include='object').columns:\n",
    "    if column != 'Customer_Status':\n",
    "        le = LabelEncoder()\n",
    "        data[column] = le.fit_transform(data[column])\n",
    "        label_encoders[column] = le"
   ]
  },
  {
   "cell_type": "markdown",
   "id": "33cd4609",
   "metadata": {},
   "source": [
    "## 🎯 7. Feature and Target Variables"
   ]
  },
  {
   "cell_type": "code",
   "execution_count": null,
   "id": "d7679390",
   "metadata": {},
   "outputs": [],
   "source": [
    "X = data.drop(columns=['Customer_Status'])\n",
    "y = data['Customer_Status']"
   ]
  },
  {
   "cell_type": "markdown",
   "id": "4195ba01",
   "metadata": {},
   "source": [
    "## ✂️ 8. Train-Test Split"
   ]
  },
  {
   "cell_type": "code",
   "execution_count": null,
   "id": "4027db66",
   "metadata": {},
   "outputs": [],
   "source": [
    "X_train, X_test, y_train, y_test = train_test_split(X, y, test_size=0.2, random_state=42)"
   ]
  },
  {
   "cell_type": "markdown",
   "id": "f33c97a1",
   "metadata": {},
   "source": [
    "## 🤖 9. Model Building"
   ]
  },
  {
   "cell_type": "code",
   "execution_count": null,
   "id": "1b4d2430",
   "metadata": {},
   "outputs": [],
   "source": [
    "model = RandomForestClassifier(random_state=42)\n",
    "model.fit(X_train, y_train)"
   ]
  },
  {
   "cell_type": "markdown",
   "id": "058f0073",
   "metadata": {},
   "source": [
    "## 📈 10. Model Evaluation"
   ]
  },
  {
   "cell_type": "code",
   "execution_count": null,
   "id": "2052911a",
   "metadata": {},
   "outputs": [],
   "source": [
    "y_pred = model.predict(X_test)\n",
    "print(classification_report(y_test, y_pred))\n",
    "print(confusion_matrix(y_test, y_pred))\n",
    "print('ROC-AUC Score:', roc_auc_score(y_test, model.predict_proba(X_test)[:,1]))"
   ]
  },
  {
   "cell_type": "markdown",
   "id": "4d8a8a5d",
   "metadata": {},
   "source": [
    "## 💡 11. Key Insights\n",
    "\n",
    "- Customers with short tenure and high charges are more likely to churn.\n",
    "- Long-term contracts and support services reduce churn likelihood.\n",
    "- The model performs well in identifying high-risk customers.\n",
    "\n",
    "Use these insights to support marketing, retention, or account management strategies."
   ]
  },
  {
   "cell_type": "markdown",
   "id": "0d72e6fb",
   "metadata": {},
   "source": [
    "## ✅ 12. Conclusion\n",
    "\n",
    "This analysis shows how churn prediction models can help businesses retain valuable customers. The workflow used here can be adapted for other domains such as finance, telecom, or SaaS."
   ]
  }
 ],
 "metadata": {},
 "nbformat": 4,
 "nbformat_minor": 5
}
